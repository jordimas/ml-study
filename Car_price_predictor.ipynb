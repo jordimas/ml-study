{
  "cells": [
    {
      "cell_type": "markdown",
      "metadata": {
        "id": "view-in-github",
        "colab_type": "text"
      },
      "source": [
        "<a href=\"https://colab.research.google.com/github/jordimas/ml-study/blob/main/Car_price_predictor.ipynb\" target=\"_parent\"><img src=\"https://colab.research.google.com/assets/colab-badge.svg\" alt=\"Open In Colab\"/></a>"
      ]
    },
    {
      "cell_type": "code",
      "execution_count": 3,
      "metadata": {
        "colab": {
          "base_uri": "https://localhost:8080/"
        },
        "id": "fw7MJLq546XA",
        "outputId": "6e797c60-dd8a-49ae-d6b2-810f0ba3020e"
      },
      "outputs": [
        {
          "output_type": "stream",
          "name": "stdout",
          "text": [
            "--2022-01-08 14:17:17--  https://gent.softcatala.org/jmas/files/car-prices-from-kaggle.zip\n",
            "Resolving gent.softcatala.org (gent.softcatala.org)... 193.144.12.15\n",
            "Connecting to gent.softcatala.org (gent.softcatala.org)|193.144.12.15|:443... connected.\n",
            "HTTP request sent, awaiting response... 200 OK\n",
            "Length: 275237598 (262M) [application/zip]\n",
            "Saving to: ‘car-prices-from-kaggle.zip’\n",
            "\n",
            "car-prices-from-kag 100%[===================>] 262.49M  23.0MB/s    in 12s     \n",
            "\n",
            "2022-01-08 14:17:30 (21.0 MB/s) - ‘car-prices-from-kaggle.zip’ saved [275237598/275237598]\n",
            "\n",
            "Archive:  car-prices-from-kaggle.zip\n",
            "  inflating: vehicles.csv            \n"
          ]
        }
      ],
      "source": [
        "\n",
        "#Download data\n",
        "!wget https://gent.softcatala.org/jmas/files/car-prices-from-kaggle.zip\n",
        "!unzip car-prices-from-kaggle.zip"
      ]
    },
    {
      "cell_type": "code",
      "execution_count": 4,
      "metadata": {
        "id": "ctPsHzvRnkdP"
      },
      "outputs": [],
      "source": [
        "import pandas as pd\n",
        "\n",
        "df_org = pd.read_csv('vehicles.csv')\n"
      ]
    },
    {
      "cell_type": "code",
      "execution_count": 5,
      "metadata": {
        "id": "nwBPXFDNn7Ps",
        "colab": {
          "base_uri": "https://localhost:8080/"
        },
        "outputId": "df0ba32d-4569-4fbd-fa7b-0f3f14be853c"
      },
      "outputs": [
        {
          "output_type": "stream",
          "name": "stdout",
          "text": [
            "           id  ... posting_date\n",
            "0  7222695916  ...          NaN\n",
            "1  7218891961  ...          NaN\n",
            "2  7221797935  ...          NaN\n",
            "3  7222270760  ...          NaN\n",
            "4  7210384030  ...          NaN\n",
            "\n",
            "[5 rows x 26 columns]\n",
            "id                int64\n",
            "url              object\n",
            "region           object\n",
            "region_url       object\n",
            "price             int64\n",
            "year            float64\n",
            "manufacturer     object\n",
            "model            object\n",
            "condition        object\n",
            "cylinders        object\n",
            "fuel             object\n",
            "odometer        float64\n",
            "title_status     object\n",
            "transmission     object\n",
            "VIN              object\n",
            "drive            object\n",
            "size             object\n",
            "type             object\n",
            "paint_color      object\n",
            "image_url        object\n",
            "description      object\n",
            "county          float64\n",
            "state            object\n",
            "lat             float64\n",
            "long            float64\n",
            "posting_date     object\n",
            "dtype: object\n",
            "<bound method DataFrame.info of                 id  ...              posting_date\n",
            "0       7222695916  ...                       NaN\n",
            "1       7218891961  ...                       NaN\n",
            "2       7221797935  ...                       NaN\n",
            "3       7222270760  ...                       NaN\n",
            "4       7210384030  ...                       NaN\n",
            "...            ...  ...                       ...\n",
            "426875  7301591192  ...  2021-04-04T03:21:31-0600\n",
            "426876  7301591187  ...  2021-04-04T03:21:29-0600\n",
            "426877  7301591147  ...  2021-04-04T03:21:17-0600\n",
            "426878  7301591140  ...  2021-04-04T03:21:11-0600\n",
            "426879  7301591129  ...  2021-04-04T03:21:07-0600\n",
            "\n",
            "[426880 rows x 26 columns]>\n"
          ]
        },
        {
          "output_type": "execute_result",
          "data": {
            "text/plain": [
              "array([nan, 'sierra 1500 crew cab slt', 'silverado 1500', ...,\n",
              "       'gand wagoneer', '96 Suburban', 'Paige Glenbrook Touring'],\n",
              "      dtype=object)"
            ]
          },
          "metadata": {},
          "execution_count": 5
        }
      ],
      "source": [
        "# Analysis\n",
        "df_org.head(30)\n",
        "\n",
        "# Data exploration\n",
        "df = df_org\n",
        "print (df.head())\n",
        "print(df.dtypes)\n",
        "print (df.info)\n",
        "pd.options.display.float_format = '{:.2f}'.format\n",
        "df.describe()\n",
        "\n",
        "# Unique values in a column\n",
        "df.model.unique()\n"
      ]
    },
    {
      "cell_type": "code",
      "execution_count": 6,
      "metadata": {
        "id": "CjsZ61u1Wcct",
        "colab": {
          "base_uri": "https://localhost:8080/",
          "height": 279
        },
        "outputId": "6312e4c0-584c-4b49-f85a-2d222dbdabb7"
      },
      "outputs": [
        {
          "output_type": "display_data",
          "data": {
            "image/png": "[encoded data removed]",
            "text/plain": [
              "<Figure size 432x288 with 1 Axes>"
            ]
          },
          "metadata": {
            "needs_background": "light"
          }
        }
      ],
      "source": [
        "import matplotlib.pyplot as plt\n",
        "df.plot(x=\"price\", y=\"year\",  kind=\"scatter\")\n",
        "plt.show()"
      ]
    },
    {
      "cell_type": "code",
      "execution_count": 7,
      "metadata": {
        "colab": {
          "base_uri": "https://localhost:8080/"
        },
        "id": "kFeRibhZY0vH",
        "outputId": "e53ce60a-3773-49bf-ccad-01bf8039f50d"
      },
      "outputs": [
        {
          "output_type": "stream",
          "name": "stdout",
          "text": [
            "--\n",
            "             id  ...              posting_date\n",
            "126  7305672709  ...  2021-04-12T11:20:35-0500\n",
            "127  7305672266  ...  2021-04-12T11:20:00-0500\n",
            "128  7305672252  ...  2021-04-12T11:19:58-0500\n",
            "215  7316482063  ...  2021-05-03T17:48:17-0500\n",
            "219  7316429417  ...  2021-05-03T16:03:27-0500\n",
            "\n",
            "[5 rows x 25 columns]\n",
            "       year  odometer  fe_audi  fe_bmw  ...  fe_sedan  fe_truck  fe_van  fe_wagon\n",
            "126 2018.00  68472.00        0       0  ...         0         0       1         0\n",
            "127 2019.00  69125.00        0       0  ...         0         0       1         0\n",
            "128 2018.00  66555.00        0       0  ...         0         0       1         0\n",
            "215 2002.00 155000.00        0       0  ...         1         0       0         0\n",
            "219 1995.00 110661.00        0       1  ...         1         0       0         0\n",
            "\n",
            "[5 rows x 54 columns]\n",
            "126       0\n",
            "127       0\n",
            "128       0\n",
            "215    4000\n",
            "219    2500\n",
            "Name: price, dtype: int64\n"
          ]
        },
        {
          "output_type": "execute_result",
          "data": {
            "text/plain": [
              "RandomForestRegressor()"
            ]
          },
          "metadata": {},
          "execution_count": 7
        }
      ],
      "source": [
        "\n",
        "from sklearn.model_selection import train_test_split\n",
        "from sklearn import linear_model\n",
        "from sklearn import preprocessing\n",
        "from matplotlib import pyplot as plt\n",
        "import sklearn.neighbors\n",
        "from sklearn.ensemble import RandomForestRegressor, GradientBoostingRegressor, ExtraTreesRegressor, BaggingRegressor\n",
        "\n",
        "\n",
        "df = df_org.copy()\n",
        "\n",
        "# Only 30.000 elements\n",
        "df = df.head(30000)\n",
        "\n",
        "# Drop all rows with all elements with NA\n",
        "df = df.dropna(axis=1, how='all')\n",
        "\n",
        "df = df.dropna(axis=0)\n",
        "print(\"--\")\n",
        "print(df.head())\n",
        "\n",
        "\n",
        "#model = linear_model.LinearRegression()\n",
        "model = RandomForestRegressor()\n",
        "\n",
        "df = df.fillna(df.mean())\n",
        "\n",
        "y = df['price']\n",
        "x = df[['year' ,'odometer']]\n",
        "\n",
        "features_to_encode = ['manufacturer',  'state', 'type']\n",
        "\n",
        "for feature in features_to_encode:\n",
        "  res = pd.get_dummies(frame[feature],prefix='fe',drop_first=True)\n",
        "  x = pd.concat([x,res],axis=1)\n",
        "\n",
        "print(x.head(5))\n",
        "print(y.head(5))\n",
        "\n",
        "X_train, X_test, y_train, y_test = train_test_split(x, y, test_size=0.10, random_state=0)\n",
        "\n",
        "model.fit(X_train, y_train)\n",
        "\n"
      ]
    },
    {
      "cell_type": "code",
      "source": [
        "from sklearn import metrics\n",
        "import seaborn as sns\n",
        "\n",
        "# Model evalution\n",
        "y_predicted = model.predict(X_test)\n",
        "\n",
        "#draw\n",
        "\n",
        "fig, ax = plt.subplots()\n",
        "ax.scatter(y_predicted, y_test, edgecolors=(0, 0, 1))\n",
        "ax.plot([y_test.min(), y_test.max()], [y_test.min(), y_test.max()], 'r--', lw=3)\n",
        "ax.set_xlabel('Predicted')\n",
        "ax.set_ylabel('Actual')\n",
        "plt.show()\n",
        "\n",
        "# model evaluation for testing set\n",
        "\n",
        "mae = metrics.mean_absolute_error(y_test, y_predicted)\n",
        "mse = metrics.mean_squared_error(y_test, y_predicted)\n",
        "r2 = metrics.r2_score(y_test, y_predicted)\n",
        "\n",
        "print(\"The model performance for testing set\")\n",
        "print(\"--------------------------------------\")\n",
        "print('MAE is {}'.format(mae))\n",
        "print('MSE is {}'.format(mse))\n",
        "print('R2 score is {}'.format(r2))\n",
        "\n",
        "sns.pairplot(data = x, diag_kind = 'kde')"
      ],
      "metadata": {
        "colab": {
          "base_uri": "https://localhost:8080/",
          "height": 371
        },
        "id": "ccmWxM41B35T",
        "outputId": "cc76dcf1-acd6-4a2a-d43b-054b08ba5a7f"
      },
      "execution_count": null,
      "outputs": [
        {
          "output_type": "display_data",
          "data": {
            "image/png": "[encoded data removed]",
            "text/plain": [
              "<Figure size 432x288 with 1 Axes>"
            ]
          },
          "metadata": {
            "needs_background": "light"
          }
        },
        {
          "output_type": "stream",
          "name": "stdout",
          "text": [
            "The model performance for testing set\n",
            "--------------------------------------\n",
            "MAE is 3870.582212425595\n",
            "MSE is 45864521.4080614\n",
            "R2 score is 0.7291988512641397\n"
          ]
        }
      ]
    }
  ],
  "metadata": {
    "colab": {
      "collapsed_sections": [],
      "name": "Car price predictor.ipynb",
      "provenance": [],
      "authorship_tag": "ABX9TyOyfA1M16sRBmkvLISJrwkw",
      "include_colab_link": true
    },
    "kernelspec": {
      "display_name": "Python 3",
      "name": "python3"
    },
    "language_info": {
      "name": "python"
    }
  },
  "nbformat": 4,
  "nbformat_minor": 0
}